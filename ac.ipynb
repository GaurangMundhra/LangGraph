{
 "cells": [
  {
   "cell_type": "code",
   "execution_count": 1,
   "id": "692c2eee",
   "metadata": {},
   "outputs": [
    {
     "name": "stdout",
     "output_type": "stream",
     "text": [
      "Hi Jack Sparrow, your answer is: 24\n"
     ]
    }
   ],
   "source": [
    "from typing import Dict\n",
    "from math import prod  # For multiplication of list elements\n",
    "\n",
    "def process_values(state: Dict) -> Dict:\n",
    "    \"\"\"Process addition or multiplication on a list of integers in one node.\"\"\"\n",
    "    if state[\"operation\"] == \"+\":\n",
    "        result = sum(state[\"values\"])\n",
    "    elif state[\"operation\"] == \"*\":\n",
    "        result = prod(state[\"values\"])\n",
    "    else:\n",
    "        raise ValueError(\"Invalid operation. Use '+' or '*'.\")\n",
    "\n",
    "    state[\"result\"] = f\"Hi {state['name']}, your answer is: {result}\"\n",
    "    return state\n",
    "\n",
    "\n",
    "# Example usage:\n",
    "state = {\n",
    "    \"name\": \"Jack Sparrow\",\n",
    "    \"values\": [1, 2, 3, 4],\n",
    "    \"operation\": \"*\"\n",
    "}\n",
    "\n",
    "output = process_values(state)\n",
    "print(output[\"result\"])  # Hi Jack Sparrow, your answer is: 24\n"
   ]
  },
  {
   "cell_type": "code",
   "execution_count": null,
   "id": "7ccdefe4",
   "metadata": {},
   "outputs": [],
   "source": []
  }
 ],
 "metadata": {
  "kernelspec": {
   "display_name": "Python 3",
   "language": "python",
   "name": "python3"
  },
  "language_info": {
   "codemirror_mode": {
    "name": "ipython",
    "version": 3
   },
   "file_extension": ".py",
   "mimetype": "text/x-python",
   "name": "python",
   "nbconvert_exporter": "python",
   "pygments_lexer": "ipython3",
   "version": "3.9.13"
  }
 },
 "nbformat": 4,
 "nbformat_minor": 5
}
