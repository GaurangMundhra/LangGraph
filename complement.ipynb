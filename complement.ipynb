{
 "cells": [
  {
   "cell_type": "code",
   "execution_count": 1,
   "id": "1c0c64b2",
   "metadata": {},
   "outputs": [],
   "source": [
    "from typing import TypedDict\n",
    "from langgraph.graph import StateGraph"
   ]
  },
  {
   "cell_type": "code",
   "execution_count": 2,
   "id": "60ef227c",
   "metadata": {},
   "outputs": [],
   "source": [
    "class ComplementState(TypedDict):\n",
    "    message:str\n",
    "\n",
    "def complement_node(state:ComplementState) -> ComplementState:\n",
    "\n",
    "    state[\"message\"] = \"Hey \" + state[\"message\"] + \", You are great learning Langgraph\"\n",
    "\n",
    "    return state"
   ]
  },
  {
   "cell_type": "code",
   "execution_count": null,
   "id": "8e536bda",
   "metadata": {},
   "outputs": [],
   "source": [
    "graph = StateGraph(ComplementState)\n",
    "\n",
    "graph.add_node(\"Complement\",complement_node)\n",
    "\n",
    "graph.set_entry_point(\"Complement\")\n",
    "graph.set_finish_point(\"Complement\")\n",
    "\n"
   ]
  }
 ],
 "metadata": {
  "kernelspec": {
   "display_name": "Python 3",
   "language": "python",
   "name": "python3"
  },
  "language_info": {
   "codemirror_mode": {
    "name": "ipython",
    "version": 3
   },
   "file_extension": ".py",
   "mimetype": "text/x-python",
   "name": "python",
   "nbconvert_exporter": "python",
   "pygments_lexer": "ipython3",
   "version": "3.9.13"
  }
 },
 "nbformat": 4,
 "nbformat_minor": 5
}
